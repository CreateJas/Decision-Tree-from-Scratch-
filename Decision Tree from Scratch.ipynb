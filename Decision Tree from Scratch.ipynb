{
 "cells": [
  {
   "cell_type": "code",
   "execution_count": 35,
   "id": "a7e68778-6d05-441d-97bb-f0f688d6ac24",
   "metadata": {},
   "outputs": [
    {
     "name": "stdout",
     "output_type": "stream",
     "text": [
      "   weather  temperature play_outside\n",
      "0    sunny           25          yes\n",
      "1    rainy           20           no\n",
      "2    windy           22          yes\n",
      "3    sunny           18          yes\n",
      "4    rainy           23           no\n",
      "5    sunny           26          yes\n",
      "6    windy           21           no\n",
      "7    sunny           24          yes\n",
      "8    rainy           19           no\n",
      "9    sunny           20          yes\n",
      "10   rainy           27           no\n",
      "11   windy           22          yes\n",
      "12   sunny           18          yes\n",
      "13   rainy           24           no\n",
      "14   sunny           26          yes\n",
      "15   rainy           21           no\n",
      "16   windy           23           no\n",
      "17   sunny           19          yes\n",
      "18   rainy           22          yes\n",
      "19   windy           25           no\n"
     ]
    }
   ],
   "source": [
    "import pandas as pd\n",
    "\n",
    "# Sample data\n",
    "data = {\n",
    "    'weather': ['sunny', 'rainy', 'windy', 'sunny', 'rainy', 'sunny', 'windy', 'sunny', 'rainy', 'sunny',\n",
    "                'rainy', 'windy', 'sunny', 'rainy', 'sunny', 'rainy', 'windy', 'sunny', 'rainy', 'windy'],\n",
    "    'temperature': [25, 20, 22, 18, 23, 26, 21, 24, 19, 20, 27, 22, 18, 24, 26, 21, 23, 19, 22, 25],\n",
    "    'play_outside': ['yes', 'no', 'yes', 'yes', 'no', 'yes', 'no', 'yes', 'no', 'yes',\n",
    "                     'no', 'yes', 'yes', 'no', 'yes', 'no', 'no', 'yes', 'yes', 'no']\n",
    "}\n",
    "\n",
    "# Create DataFrame\n",
    "df = pd.DataFrame(data)\n",
    "\n",
    "# Print DataFrame\n",
    "print(df)\n"
   ]
  },
  {
   "cell_type": "markdown",
   "id": "e8172932-84b7-4d8f-a128-cf6c455101e1",
   "metadata": {},
   "source": [
    "# Now lets Find out Entropy for play_outside"
   ]
  },
  {
   "cell_type": "code",
   "execution_count": 36,
   "id": "884c1a89-0db2-43a1-9f44-2a47f3397cec",
   "metadata": {},
   "outputs": [
    {
     "name": "stdout",
     "output_type": "stream",
     "text": [
      "Entropy for 'play_outside': 0.9927744539878083\n"
     ]
    }
   ],
   "source": [
    "import pandas as pd\n",
    "import numpy as np\n",
    "\n",
    "# Sample data\n",
    "data = {\n",
    "    'weather': ['sunny', 'rainy', 'windy', 'sunny', 'rainy', 'sunny', 'windy', 'sunny', 'rainy', 'sunny',\n",
    "                'rainy', 'windy', 'sunny', 'rainy', 'sunny', 'rainy', 'windy', 'sunny', 'rainy', 'windy'],\n",
    "    'temperature': [25, 20, 22, 18, 23, 26, 21, 24, 19, 20, 27, 22, 18, 24, 26, 21, 23, 19, 22, 25],\n",
    "    'play_outside': ['yes', 'no', 'yes', 'yes', 'no', 'yes', 'no', 'yes', 'no', 'yes',\n",
    "                     'no', 'yes', 'yes', 'no', 'yes', 'no', 'no', 'yes', 'yes', 'no']\n",
    "}\n",
    "\n",
    "# Create DataFrame\n",
    "df = pd.DataFrame(data)\n",
    "\n",
    "# Function to calculate entropy\n",
    "def calculate_entropy(df, target_column):\n",
    "    # Count occurrences of each class\n",
    "    class_counts = df[target_column].value_counts()\n",
    "    total_samples = len(df)\n",
    "    \n",
    "    # Calculate probabilities\n",
    "    probabilities = class_counts / total_samples\n",
    "    \n",
    "    # Calculate entropy\n",
    "    entropy = -np.sum(probabilities * np.log2(probabilities))\n",
    "    \n",
    "    return entropy\n",
    "\n",
    "# Calculate entropy for the \"play_outside\" column\n",
    "entropy_play_outside = calculate_entropy(df, 'play_outside')\n",
    "\n",
    "print(\"Entropy for 'play_outside':\", entropy_play_outside)\n"
   ]
  },
  {
   "cell_type": "markdown",
   "id": "d210e162-51fe-472e-9959-6e19ef180102",
   "metadata": {},
   "source": [
    "# Calculating Weather entropy"
   ]
  },
  {
   "cell_type": "code",
   "execution_count": 37,
   "id": "cf68365d-bad4-4e06-8c27-cc9792fd4af1",
   "metadata": {
    "scrolled": true
   },
   "outputs": [
    {
     "name": "stdout",
     "output_type": "stream",
     "text": [
      "Entropy for 'weather': 1.55887184844536\n"
     ]
    }
   ],
   "source": [
    "import pandas as pd\n",
    "import numpy as np\n",
    "\n",
    "# Sample data\n",
    "data = {\n",
    "    'weather': ['sunny', 'rainy', 'windy', 'sunny', 'rainy', 'sunny', 'windy', 'sunny', 'rainy', 'sunny',\n",
    "                'rainy', 'windy', 'sunny', 'rainy', 'sunny', 'rainy', 'windy', 'sunny', 'rainy', 'windy'],\n",
    "    'temperature': [25, 20, 22, 18, 23, 26, 21, 24, 19, 20, 27, 22, 18, 24, 26, 21, 23, 19, 22, 25],\n",
    "    'play_outside': ['yes', 'no', 'yes', 'yes', 'no', 'yes', 'no', 'yes', 'no', 'yes',\n",
    "                     'no', 'yes', 'yes', 'no', 'yes', 'no', 'no', 'yes', 'yes', 'no']\n",
    "}\n",
    "\n",
    "# Create DataFrame\n",
    "df = pd.DataFrame(data)\n",
    "\n",
    "# Function to calculate entropy\n",
    "def calculate_entropy(df, attribute):\n",
    "    class_counts = df[attribute].value_counts()\n",
    "    total_samples = len(df)\n",
    "    if len(class_counts) <= 1:\n",
    "        return 0  # Entropy is 0 if there's only one class label\n",
    "    probabilities = class_counts / total_samples\n",
    "    entropy = -np.sum(probabilities * np.log2(probabilities))\n",
    "    return entropy\n",
    "\n",
    "\n",
    "# Calculate entropy for the \"weather\" attribute\n",
    "attribute = 'weather'\n",
    "entropy_weather = calculate_entropy(df, attribute)\n",
    "\n",
    "print(f\"Entropy for '{attribute}': {entropy_weather}\")\n",
    "\n"
   ]
  },
  {
   "cell_type": "markdown",
   "id": "b33679b2-03ad-4f5d-aae2-8aa4cff31738",
   "metadata": {},
   "source": [
    "# Calculating Temperature Entropy"
   ]
  },
  {
   "cell_type": "markdown",
   "id": "ef801654-1d8e-400e-b4b1-aea62392294a",
   "metadata": {},
   "source": [
    "import pandas as pd\n",
    "import numpy as np\n",
    "\n",
    "# Sample data\n",
    "data = {\n",
    "    'weather': ['sunny', 'rainy', 'windy', 'sunny', 'rainy', 'sunny', 'windy', 'sunny', 'rainy', 'sunny',\n",
    "                'rainy', 'windy', 'sunny', 'rainy', 'sunny', 'rainy', 'windy', 'sunny', 'rainy', 'windy'],\n",
    "    'temperature': [25, 20, 22, 18, 23, 26, 21, 24, 19, 20, 27, 22, 18, 24, 26, 21, 23, 19, 22, 25],\n",
    "    'play_outside': ['yes', 'no', 'yes', 'yes', 'no', 'yes', 'no', 'yes', 'no', 'yes',\n",
    "                     'no', 'yes', 'yes', 'no', 'yes', 'no', 'no', 'yes', 'yes', 'no']\n",
    "}\n",
    "\n",
    "# Create DataFrame\n",
    "df = pd.DataFrame(data)\n",
    "\n",
    "# Discretize temperature into bins\n",
    "df['temperature_bin'] = pd.cut(df['temperature'], bins=3)\n",
    "\n",
    "# Function to calculate entropy\n",
    "def calculate_entropy(df, attribute):\n",
    "    class_counts = df[attribute].value_counts()\n",
    "    total_samples = len(df)\n",
    "    probabilities = class_counts / total_samples\n",
    "    entropy = -np.sum(probabilities * np.log2(probabilities))\n",
    "    return entropy\n",
    "\n",
    "# Calculate entropy for the \"temperature_bin\" attribute\n",
    "attribute = 'temperature_bin'\n",
    "entropy_temperature = calculate_entropy(df, attribute)\n",
    "\n",
    "print(f\"Entropy for '{attribute}': {entropy_temperature}\")\n",
    "\n",
    "\n"
   ]
  },
  {
   "cell_type": "markdown",
   "id": "0784efe4-7970-448e-bf5a-9be5c614f6fe",
   "metadata": {},
   "source": [
    "# Calculating Information Gain for Weather and Temperature using Entropy"
   ]
  },
  {
   "cell_type": "code",
   "execution_count": 38,
   "id": "024087ea-a491-4f4a-9e87-c49d83b0ce30",
   "metadata": {},
   "outputs": [
    {
     "name": "stdout",
     "output_type": "stream",
     "text": [
      "Information Gain for 'weather': 0.5429513328703266\n",
      "Information Gain for 'temperature': 0.5927744539878083\n"
     ]
    }
   ],
   "source": [
    "import pandas as pd\n",
    "import numpy as np\n",
    "\n",
    "# Sample data\n",
    "data = {\n",
    "    'weather': ['sunny', 'rainy', 'windy', 'sunny', 'rainy', 'sunny', 'windy', 'sunny', 'rainy', 'sunny',\n",
    "                'rainy', 'windy', 'sunny', 'rainy', 'sunny', 'rainy', 'windy', 'sunny', 'rainy', 'windy'],\n",
    "    'temperature': [25, 20, 22, 18, 23, 26, 21, 24, 19, 20, 27, 22, 18, 24, 26, 21, 23, 19, 22, 25],\n",
    "    'play_outside': ['yes', 'no', 'yes', 'yes', 'no', 'yes', 'no', 'yes', 'no', 'yes',\n",
    "                     'no', 'yes', 'yes', 'no', 'yes', 'no', 'no', 'yes', 'yes', 'no']\n",
    "}\n",
    "\n",
    "# Create DataFrame\n",
    "df = pd.DataFrame(data)\n",
    "\n",
    "# Function to calculate entropy\n",
    "def calculate_entropy(df, attribute):\n",
    "    class_counts = df[attribute].value_counts()\n",
    "    total_samples = len(df)\n",
    "    probabilities = class_counts / total_samples\n",
    "    entropy = -np.sum(probabilities * np.log2(probabilities))\n",
    "    return entropy\n",
    "\n",
    "# Function to calculate information gain\n",
    "def calculate_information_gain(df, attribute, target_attribute):\n",
    "    # Calculate the entropy of the dataset before splitting\n",
    "    total_entropy = calculate_entropy(df, target_attribute)\n",
    "    \n",
    "    # Calculate the weighted average entropy after splitting by the given attribute\n",
    "    weighted_entropy = 0\n",
    "    unique_values = df[attribute].unique()\n",
    "    for value in unique_values:\n",
    "        subset = df[df[attribute] == value]\n",
    "        subset_entropy = calculate_entropy(subset, target_attribute)\n",
    "        weighted_entropy += (len(subset) / len(df)) * subset_entropy\n",
    "    \n",
    "    # Calculate information gain by subtracting the weighted average entropy from the total entropy\n",
    "    information_gain = total_entropy - weighted_entropy\n",
    "    return information_gain\n",
    "\n",
    "# Step 1: Calculate entropy for the target variable\n",
    "target_entropy = calculate_entropy(df, 'play_outside')\n",
    "\n",
    "# Step 2: Calculate information gain for each attribute\n",
    "info_gain_weather = calculate_information_gain(df, 'weather', 'play_outside')\n",
    "info_gain_temperature = calculate_information_gain(df, 'temperature', 'play_outside')  # Changed to 'temperature'\n",
    "\n",
    "print(f\"Information Gain for 'weather': {info_gain_weather}\")\n",
    "print(f\"Information Gain for 'temperature': {info_gain_temperature}\")\n"
   ]
  },
  {
   "cell_type": "markdown",
   "id": "8000cf07-2470-4cf6-8c8c-94e59708b257",
   "metadata": {},
   "source": [
    "# Assigning the Root node of Decison tree"
   ]
  },
  {
   "cell_type": "code",
   "execution_count": null,
   "id": "db8e0ea5-b4fd-4efa-8dc3-e5e0ffdcbbf4",
   "metadata": {},
   "outputs": [],
   "source": [
    "import pandas as pd\n",
    "import numpy as np\n",
    "\n",
    "# Sample data\n",
    "data = {\n",
    "    'weather': ['sunny', 'rainy', 'windy', 'sunny', 'rainy', 'sunny', 'windy', 'sunny', 'rainy', 'sunny',\n",
    "                'rainy', 'windy', 'sunny', 'rainy', 'sunny', 'rainy', 'windy', 'sunny', 'rainy', 'windy'],\n",
    "    'temperature': [25, 20, 22, 18, 23, 26, 21, 24, 19, 20, 27, 22, 18, 24, 26, 21, 23, 19, 22, 25],\n",
    "    'play_outside': ['yes', 'no', 'yes', 'yes', 'no', 'yes', 'no', 'yes', 'no', 'yes',\n",
    "                     'no', 'yes', 'yes', 'no', 'yes', 'no', 'no', 'yes', 'yes', 'no']\n",
    "}\n",
    "\n",
    "# Create DataFrame\n",
    "df = pd.DataFrame(data)\n",
    "\n",
    "# Function to calculate entropy\n",
    "def calculate_entropy(df, attribute):\n",
    "    class_counts = df[attribute].value_counts()\n",
    "    total_samples = len(df)\n",
    "    probabilities = class_counts / total_samples\n",
    "    entropy = -np.sum(probabilities * np.log2(probabilities))\n",
    "    return entropy\n",
    "\n",
    "# Function to calculate information gain\n",
    "def calculate_information_gain(df, attribute, target_attribute):\n",
    "    # Calculate the entropy of the dataset before splitting\n",
    "    total_entropy = calculate_entropy(df, target_attribute)\n",
    "    \n",
    "    # Calculate the weighted average entropy after splitting by the given attribute\n",
    "    weighted_entropy = 0\n",
    "    unique_values = df[attribute].unique()\n",
    "    for value in unique_values:\n",
    "        subset = df[df[attribute] == value]\n",
    "        subset_entropy = calculate_entropy(subset, target_attribute)\n",
    "        weighted_entropy += (len(subset) / len(df)) * subset_entropy\n",
    "    \n",
    "    # Calculate information gain by subtracting the weighted average entropy from the total entropy\n",
    "    information_gain = total_entropy - weighted_entropy\n",
    "    return information_gain\n",
    "\n",
    "# Step 1: Calculate entropy for the target variable\n",
    "target_entropy = calculate_entropy(df, 'play_outside')\n",
    "\n",
    "# Step 2: Calculate information gain for each attribute\n",
    "info_gain_weather = calculate_information_gain(df, 'weather', 'play_outside')\n",
    "info_gain_temperature = calculate_information_gain(df, 'temperature', 'play_outside')\n",
    "\n",
    "# Step 3: Select the attribute with the highest information gain as the root node\n",
    "root_node = 'temperature' if info_gain_temperature > info_gain_weather else 'weather'\n",
    "\n",
    "print(f\"Selecting '{root_node}' as the root node.\")\n",
    "\n"
   ]
  },
  {
   "cell_type": "markdown",
   "id": "b20aceff-0af4-4770-b002-0f1cf5ee5668",
   "metadata": {},
   "source": [
    "# Finising The decison Tree"
   ]
  },
  {
   "cell_type": "code",
   "execution_count": 39,
   "id": "ded98e63-98d5-457f-be23-59f226f25951",
   "metadata": {},
   "outputs": [
    {
     "name": "stdout",
     "output_type": "stream",
     "text": [
      "{'weather': {'sunny': 'yes', 'rainy': 'no', 'windy': 'no'}}\n"
     ]
    }
   ],
   "source": [
    "# Function to build the decision tree recursively\n",
    "def build_decision_tree(df):\n",
    "    # Stopping condition: If all instances belong to the same class, return a leaf node with that class label\n",
    "    if len(df['play_outside'].unique()) == 1:\n",
    "        return df['play_outside'].iloc[0]\n",
    "    \n",
    "    # Stopping condition: If no more attributes to split on, return the majority class label\n",
    "    if len(df.columns) == 1:\n",
    "        return df['play_outside'].mode()[0]\n",
    "    \n",
    "    # Select the best attribute to split on\n",
    "    info_gains = {}\n",
    "    for attribute in df.columns[:-1]:  # Exclude the target attribute\n",
    "        if attribute != root_node:  # Skip the root node attribute\n",
    "            info_gain = calculate_information_gain(df, attribute, 'play_outside')\n",
    "            info_gains[attribute] = info_gain\n",
    "    \n",
    "    # If info_gains is empty, return the majority class label\n",
    "    if not info_gains:\n",
    "        return df['play_outside'].mode()[0]\n",
    "    \n",
    "    best_attribute = max(info_gains, key=info_gains.get)\n",
    "    \n",
    "    # Split the dataset based on the best attribute\n",
    "    subsets = {}\n",
    "    for value in df[best_attribute].unique():\n",
    "        subset = df[df[best_attribute] == value].drop(columns=best_attribute)\n",
    "        subsets[value] = build_decision_tree(subset)\n",
    "    \n",
    "    return {best_attribute: subsets}\n",
    "\n",
    "# Step 4: Build the decision tree\n",
    "decision_tree = build_decision_tree(df)\n",
    "\n",
    "# Print the decision tree (for illustration purposes)\n",
    "print(decision_tree)\n",
    "\n"
   ]
  },
  {
   "cell_type": "code",
   "execution_count": null,
   "id": "09dbd509-f174-4dd2-8ed8-737ec65151a5",
   "metadata": {},
   "outputs": [],
   "source": []
  }
 ],
 "metadata": {
  "kernelspec": {
   "display_name": "Python 3 (ipykernel)",
   "language": "python",
   "name": "python3"
  },
  "language_info": {
   "codemirror_mode": {
    "name": "ipython",
    "version": 3
   },
   "file_extension": ".py",
   "mimetype": "text/x-python",
   "name": "python",
   "nbconvert_exporter": "python",
   "pygments_lexer": "ipython3",
   "version": "3.11.5"
  }
 },
 "nbformat": 4,
 "nbformat_minor": 5
}
